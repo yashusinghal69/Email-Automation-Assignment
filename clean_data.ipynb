{
 "cells": [
  {
   "cell_type": "code",
   "execution_count": 115,
   "id": "869f608d",
   "metadata": {},
   "outputs": [],
   "source": [
    "import pandas as pd\n",
    "import numpy as np\n",
    "import os"
   ]
  },
  {
   "cell_type": "code",
   "execution_count": 116,
   "id": "6930928d",
   "metadata": {},
   "outputs": [],
   "source": [
    "data = pd.read_csv('Data - Sheet1.csv')"
   ]
  },
  {
   "cell_type": "code",
   "execution_count": 117,
   "id": "6d10d392",
   "metadata": {},
   "outputs": [
    {
     "data": {
      "text/html": [
       "<div>\n",
       "<style scoped>\n",
       "    .dataframe tbody tr th:only-of-type {\n",
       "        vertical-align: middle;\n",
       "    }\n",
       "\n",
       "    .dataframe tbody tr th {\n",
       "        vertical-align: top;\n",
       "    }\n",
       "\n",
       "    .dataframe thead th {\n",
       "        text-align: right;\n",
       "    }\n",
       "</style>\n",
       "<table border=\"1\" class=\"dataframe\">\n",
       "  <thead>\n",
       "    <tr style=\"text-align: right;\">\n",
       "      <th></th>\n",
       "      <th>name</th>\n",
       "      <th>first_name</th>\n",
       "      <th>last_name</th>\n",
       "      <th>email</th>\n",
       "      <th>created_at</th>\n",
       "      <th>approval_status</th>\n",
       "      <th>has_joined_event</th>\n",
       "      <th>amount</th>\n",
       "      <th>amount_tax</th>\n",
       "      <th>amount_discount</th>\n",
       "      <th>currency</th>\n",
       "      <th>ticket_name</th>\n",
       "      <th>Job Title</th>\n",
       "      <th>What is your LinkedIn profile?</th>\n",
       "    </tr>\n",
       "  </thead>\n",
       "  <tbody>\n",
       "    <tr>\n",
       "      <th>0</th>\n",
       "      <td>Venkatesh R</td>\n",
       "      <td>Venkatesh</td>\n",
       "      <td>R</td>\n",
       "      <td>*****@gmail.com</td>\n",
       "      <td>2025-01-12T07:14:38.302Z</td>\n",
       "      <td>approved</td>\n",
       "      <td>No</td>\n",
       "      <td>NaN</td>\n",
       "      <td>NaN</td>\n",
       "      <td>NaN</td>\n",
       "      <td>NaN</td>\n",
       "      <td>Standard</td>\n",
       "      <td>Freelance</td>\n",
       "      <td>https://linkedin.com/in/venkatesh-r-42845a282</td>\n",
       "    </tr>\n",
       "    <tr>\n",
       "      <th>1</th>\n",
       "      <td>Mark Jawut</td>\n",
       "      <td>Mark</td>\n",
       "      <td>Jawut</td>\n",
       "      <td>*****@gmail.com</td>\n",
       "      <td>2025-01-15T10:05:14.049Z</td>\n",
       "      <td>approved</td>\n",
       "      <td>No</td>\n",
       "      <td>$0.00</td>\n",
       "      <td>$0.00</td>\n",
       "      <td>$0.00</td>\n",
       "      <td>usd</td>\n",
       "      <td>Standard</td>\n",
       "      <td>Student</td>\n",
       "      <td>MarkJawut</td>\n",
       "    </tr>\n",
       "    <tr>\n",
       "      <th>2</th>\n",
       "      <td>Avinash Kumar</td>\n",
       "      <td>Avinash</td>\n",
       "      <td>Kumar</td>\n",
       "      <td>*****@sirmvit.edu</td>\n",
       "      <td>2025-01-13T17:11:21.147Z</td>\n",
       "      <td>approved</td>\n",
       "      <td>No</td>\n",
       "      <td>NaN</td>\n",
       "      <td>NaN</td>\n",
       "      <td>NaN</td>\n",
       "      <td>NaN</td>\n",
       "      <td>Standard</td>\n",
       "      <td>Student</td>\n",
       "      <td>linkedin.com/in/Avinash.kumar5167</td>\n",
       "    </tr>\n",
       "    <tr>\n",
       "      <th>3</th>\n",
       "      <td>Wilson Juma</td>\n",
       "      <td>Wilson</td>\n",
       "      <td>Juma</td>\n",
       "      <td>*****@student.embuni.ac.ke</td>\n",
       "      <td>2025-01-15T13:32:42.805Z</td>\n",
       "      <td>approved</td>\n",
       "      <td>No</td>\n",
       "      <td>$0.00</td>\n",
       "      <td>$0.00</td>\n",
       "      <td>$0.00</td>\n",
       "      <td>usd</td>\n",
       "      <td>Standard</td>\n",
       "      <td>Digital Marketing Specialist</td>\n",
       "      <td>linkedin.com/in/wilsonjuma254</td>\n",
       "    </tr>\n",
       "    <tr>\n",
       "      <th>4</th>\n",
       "      <td>Suneel</td>\n",
       "      <td>Suneel</td>\n",
       "      <td>NaN</td>\n",
       "      <td>*****@gmail.com</td>\n",
       "      <td>2025-01-14T14:01:11.567Z</td>\n",
       "      <td>approved</td>\n",
       "      <td>Yes</td>\n",
       "      <td>NaN</td>\n",
       "      <td>NaN</td>\n",
       "      <td>NaN</td>\n",
       "      <td>NaN</td>\n",
       "      <td>Standard</td>\n",
       "      <td>Devops engineer</td>\n",
       "      <td>NaN</td>\n",
       "    </tr>\n",
       "  </tbody>\n",
       "</table>\n",
       "</div>"
      ],
      "text/plain": [
       "            name first_name last_name                       email  \\\n",
       "0    Venkatesh R  Venkatesh         R             *****@gmail.com   \n",
       "1     Mark Jawut       Mark     Jawut             *****@gmail.com   \n",
       "2  Avinash Kumar    Avinash     Kumar           *****@sirmvit.edu   \n",
       "3    Wilson Juma     Wilson      Juma  *****@student.embuni.ac.ke   \n",
       "4         Suneel     Suneel       NaN             *****@gmail.com   \n",
       "\n",
       "                 created_at approval_status has_joined_event amount  \\\n",
       "0  2025-01-12T07:14:38.302Z        approved               No    NaN   \n",
       "1  2025-01-15T10:05:14.049Z        approved               No  $0.00   \n",
       "2  2025-01-13T17:11:21.147Z        approved               No    NaN   \n",
       "3  2025-01-15T13:32:42.805Z        approved               No  $0.00   \n",
       "4  2025-01-14T14:01:11.567Z        approved              Yes    NaN   \n",
       "\n",
       "  amount_tax amount_discount currency ticket_name  \\\n",
       "0        NaN             NaN      NaN    Standard   \n",
       "1      $0.00           $0.00      usd    Standard   \n",
       "2        NaN             NaN      NaN    Standard   \n",
       "3      $0.00           $0.00      usd    Standard   \n",
       "4        NaN             NaN      NaN    Standard   \n",
       "\n",
       "                      Job Title                 What is your LinkedIn profile?  \n",
       "0                     Freelance  https://linkedin.com/in/venkatesh-r-42845a282  \n",
       "1                       Student                                      MarkJawut  \n",
       "2                       Student              linkedin.com/in/Avinash.kumar5167  \n",
       "3  Digital Marketing Specialist                  linkedin.com/in/wilsonjuma254  \n",
       "4               Devops engineer                                            NaN  "
      ]
     },
     "execution_count": 117,
     "metadata": {},
     "output_type": "execute_result"
    }
   ],
   "source": [
    "data.head(5)"
   ]
  },
  {
   "cell_type": "code",
   "execution_count": 118,
   "id": "34f4790a",
   "metadata": {},
   "outputs": [],
   "source": [
    "data = data.drop_duplicates()"
   ]
  },
  {
   "cell_type": "code",
   "execution_count": 119,
   "id": "94fe8b05",
   "metadata": {},
   "outputs": [
    {
     "name": "stdout",
     "output_type": "stream",
     "text": [
      "<class 'pandas.core.frame.DataFrame'>\n",
      "Index: 643 entries, 0 to 646\n",
      "Data columns (total 14 columns):\n",
      " #   Column                          Non-Null Count  Dtype \n",
      "---  ------                          --------------  ----- \n",
      " 0   name                            643 non-null    object\n",
      " 1   first_name                      526 non-null    object\n",
      " 2   last_name                       413 non-null    object\n",
      " 3   email                           643 non-null    object\n",
      " 4   created_at                      643 non-null    object\n",
      " 5   approval_status                 643 non-null    object\n",
      " 6   has_joined_event                643 non-null    object\n",
      " 7   amount                          382 non-null    object\n",
      " 8   amount_tax                      382 non-null    object\n",
      " 9   amount_discount                 382 non-null    object\n",
      " 10  currency                        382 non-null    object\n",
      " 11  ticket_name                     641 non-null    object\n",
      " 12  Job Title                       641 non-null    object\n",
      " 13  What is your LinkedIn profile?  633 non-null    object\n",
      "dtypes: object(14)\n",
      "memory usage: 75.4+ KB\n"
     ]
    }
   ],
   "source": [
    "data_info = data.info()"
   ]
  },
  {
   "cell_type": "code",
   "execution_count": 120,
   "id": "9fa846b6",
   "metadata": {},
   "outputs": [],
   "source": [
    "# Normalize 'has_joined_event' values\n",
    "data['has_joined_event'] = data['has_joined_event'].str.strip().str.lower().map({'yes': True, 'no': False})"
   ]
  },
  {
   "cell_type": "code",
   "execution_count": 121,
   "id": "117efa57",
   "metadata": {},
   "outputs": [],
   "source": [
    "# Flag missing or blank job titles\n",
    "# df['missing_job_title'] = df['Job Title'].apply(lambda x: pd.isna(x) or str(x).strip() == '')"
   ]
  },
  {
   "cell_type": "code",
   "execution_count": 122,
   "id": "174f2b56",
   "metadata": {},
   "outputs": [],
   "source": [
    "# Flag incomplete or missing LinkedIn profiles\n",
    "def is_linkedin_incomplete(value):\n",
    "    if pd.isna(value):\n",
    "        return True\n",
    "    value = str(value).strip().lower()\n",
    "    return not (value.startswith(\"http://\") or value.startswith(\"https://\"))\n",
    "\n",
    "data['missing_linkedin'] = data['What is your LinkedIn profile?'].apply(is_linkedin_incomplete)"
   ]
  },
  {
   "cell_type": "code",
   "execution_count": 123,
   "id": "51528174",
   "metadata": {},
   "outputs": [],
   "source": [
    "def clean_linkedin(value):\n",
    "    if pd.isna(value):\n",
    "        return \"\"  # Replace NaN with empty string\n",
    "    value = str(value).strip()\n",
    "    if value.lower().startswith(\"http://\") or value.lower().startswith(\"https://\"):\n",
    "        return value\n",
    "    return \"\"  # Replace bad URLs with empty string\n",
    "\n",
    "# Apply cleaning\n",
    "data['What is your LinkedIn profile?'] = data['What is your LinkedIn profile?'].apply(clean_linkedin)"
   ]
  },
  {
   "cell_type": "code",
   "execution_count": 124,
   "id": "e8266df3",
   "metadata": {},
   "outputs": [
    {
     "data": {
      "text/plain": [
       "approval_status\n",
       "approved    641\n",
       "declined      2\n",
       "Name: count, dtype: int64"
      ]
     },
     "execution_count": 124,
     "metadata": {},
     "output_type": "execute_result"
    }
   ],
   "source": [
    "data['approval_status'].value_counts()"
   ]
  },
  {
   "cell_type": "code",
   "execution_count": 125,
   "id": "bb194f1e",
   "metadata": {},
   "outputs": [
    {
     "data": {
      "text/plain": [
       "ticket_name\n",
       "Standard    641\n",
       "Name: count, dtype: int64"
      ]
     },
     "execution_count": 125,
     "metadata": {},
     "output_type": "execute_result"
    }
   ],
   "source": [
    "data['ticket_name'].value_counts()"
   ]
  },
  {
   "cell_type": "code",
   "execution_count": null,
   "id": "6bb0187c",
   "metadata": {},
   "outputs": [
    {
     "data": {
      "text/plain": [
       "Job Title\n",
       "Student                      105\n",
       "Data analyst                  13\n",
       "Developer                     12\n",
       "student                       12\n",
       "Data scientist                11\n",
       "                            ... \n",
       "Product Marketer               1\n",
       "Junior Software Engineer       1\n",
       "Machine Learning Engineer      1\n",
       "None yet, an enthusiast        1\n",
       "Principal product manager      1\n",
       "Name: count, Length: 352, dtype: int64"
      ]
     },
     "execution_count": 126,
     "metadata": {},
     "output_type": "execute_result"
    }
   ],
   "source": [
    "data['Job Title'].value_counts()"
   ]
  },
  {
   "cell_type": "code",
   "execution_count": 127,
   "id": "54dfd629",
   "metadata": {},
   "outputs": [],
   "source": [
    "# Convert created_at to datetime object\n",
    "data['created_at'] = pd.to_datetime(data['created_at'], errors='coerce')\n",
    "# # Format it as 'YYYY-MM-DD HH:MM AM/PM'\n",
    "data['created_at'] = data['created_at'].dt.strftime('%B %d, %Y — %I:%M %p')"
   ]
  },
  {
   "cell_type": "code",
   "execution_count": 128,
   "id": "9c488a8c",
   "metadata": {},
   "outputs": [],
   "source": [
    " # Fix inconsistent casing in Job Title: 'student' → 'Student'\n",
    "data['Job Title'] = data['Job Title'].apply(lambda x: str(x).strip().capitalize() if pd.notna(x) else x)"
   ]
  },
  {
   "cell_type": "code",
   "execution_count": 129,
   "id": "6c6b10e0",
   "metadata": {},
   "outputs": [],
   "source": [
    "# Fill missing job titles with most frequent value\n",
    "most_common_job = data['Job Title'].mode()[0]\n",
    "data['Job Title'] = data['Job Title'].fillna(most_common_job)"
   ]
  },
  {
   "cell_type": "code",
   "execution_count": 130,
   "id": "6f35d91f",
   "metadata": {},
   "outputs": [],
   "source": [
    "# Fill missing ticket_name with most frequent value\n",
    "most_common_ticket = data['ticket_name'].mode()[0]\n",
    "data['ticket_name'] = data['ticket_name'].fillna(most_common_ticket)"
   ]
  },
  {
   "cell_type": "code",
   "execution_count": 132,
   "id": "54f36731",
   "metadata": {},
   "outputs": [
    {
     "data": {
      "text/plain": [
       "Job Title\n",
       "Student             120\n",
       "Data analyst         21\n",
       "Data scientist       18\n",
       "Developer            13\n",
       "Consultant            9\n",
       "                   ... \n",
       "Website designer      1\n",
       "Ai/ml                 1\n",
       "Program managar       1\n",
       "College student       1\n",
       "Office of ceo         1\n",
       "Name: count, Length: 316, dtype: int64"
      ]
     },
     "execution_count": 132,
     "metadata": {},
     "output_type": "execute_result"
    }
   ],
   "source": [
    "data['Job Title'].value_counts()"
   ]
  },
  {
   "cell_type": "code",
   "execution_count": 133,
   "id": "c3319ac2",
   "metadata": {},
   "outputs": [],
   "source": [
    " \n",
    "# 1. Standardize casing and trim\n",
    "data['name']        = data['name'].str.strip().str.title()\n",
    "data['first_name']  = data['first_name'].str.strip().str.title()\n",
    "data['last_name']   = data['last_name'].str.strip().str.title()\n",
    "\n",
    "# 2. Parse full name into parts\n",
    "def parse_name(full):\n",
    "    parts = str(full).split()\n",
    "    if len(parts) >= 2:\n",
    "        return parts[0], parts[-1]\n",
    "    elif len(parts) == 1:\n",
    "        return parts[0], ''\n",
    "    else:\n",
    "        return '', ''\n",
    "\n",
    "data[['parsed_first', 'parsed_last']] = data['name'].apply(lambda x: pd.Series(parse_name(x)))\n",
    "\n",
    "# 3. Back-fill missing first/last names\n",
    "data['first_name'] = data['first_name'].fillna(data['parsed_first'])\n",
    "data['last_name']  = data['last_name'].fillna(data['parsed_last'])\n",
    "\n",
    " \n",
    "# (Optional) drop helpers if you want\n",
    "data = data.drop(columns=['parsed_first', 'parsed_last'])"
   ]
  },
  {
   "cell_type": "code",
   "execution_count": 135,
   "id": "7c81fdd5",
   "metadata": {},
   "outputs": [
    {
     "name": "stdout",
     "output_type": "stream",
     "text": [
      "<class 'pandas.core.frame.DataFrame'>\n",
      "Index: 643 entries, 0 to 646\n",
      "Data columns (total 15 columns):\n",
      " #   Column                          Non-Null Count  Dtype \n",
      "---  ------                          --------------  ----- \n",
      " 0   name                            643 non-null    object\n",
      " 1   first_name                      643 non-null    object\n",
      " 2   last_name                       643 non-null    object\n",
      " 3   email                           643 non-null    object\n",
      " 4   created_at                      643 non-null    object\n",
      " 5   approval_status                 643 non-null    object\n",
      " 6   has_joined_event                643 non-null    bool  \n",
      " 7   amount                          382 non-null    object\n",
      " 8   amount_tax                      382 non-null    object\n",
      " 9   amount_discount                 382 non-null    object\n",
      " 10  currency                        382 non-null    object\n",
      " 11  ticket_name                     643 non-null    object\n",
      " 12  Job Title                       643 non-null    object\n",
      " 13  What is your LinkedIn profile?  643 non-null    object\n",
      " 14  missing_linkedin                643 non-null    bool  \n",
      "dtypes: bool(2), object(13)\n",
      "memory usage: 71.6+ KB\n"
     ]
    }
   ],
   "source": [
    "data.info()"
   ]
  },
  {
   "cell_type": "code",
   "execution_count": 137,
   "id": "903f9557",
   "metadata": {},
   "outputs": [],
   "source": [
    "# Save cleaned output\n",
    "data.to_csv(\"cleaned_output.csv\", index=False)"
   ]
  },
  {
   "cell_type": "code",
   "execution_count": null,
   "id": "4c0723ad",
   "metadata": {},
   "outputs": [],
   "source": []
  }
 ],
 "metadata": {
  "kernelspec": {
   "display_name": "Python 3",
   "language": "python",
   "name": "python3"
  },
  "language_info": {
   "codemirror_mode": {
    "name": "ipython",
    "version": 3
   },
   "file_extension": ".py",
   "mimetype": "text/x-python",
   "name": "python",
   "nbconvert_exporter": "python",
   "pygments_lexer": "ipython3",
   "version": "3.13.3"
  }
 },
 "nbformat": 4,
 "nbformat_minor": 5
}
